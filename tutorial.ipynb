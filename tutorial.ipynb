{
 "cells": [
  {
   "cell_type": "markdown",
   "metadata": {},
   "source": [
    "# Tutorial"
   ]
  },
  {
   "cell_type": "markdown",
   "metadata": {},
   "source": [
    "**Let's first create an example pyspark DataFrame**\n",
    "\n",
    "The data will contain the primary keys, street names and house numbers of some addresses."
   ]
  },
  {
   "cell_type": "code",
   "execution_count": 1,
   "metadata": {},
   "outputs": [],
   "source": [
    "from pyspark.sql import SparkSession\n",
    "from pyspark.sql.types import StructType, StructField, IntegerType, StringType\n",
    "from pyspark.sql import functions as F"
   ]
  },
  {
   "cell_type": "code",
   "execution_count": 2,
   "metadata": {},
   "outputs": [
    {
     "name": "stdout",
     "output_type": "stream",
     "text": [
      "24/06/20 13:50:10 WARN Utils: Your hostname, Tomers-MacBook-Pro.local resolves to a loopback address: 127.0.0.1; using 10.241.102.53 instead (on interface en0)\n",
      "24/06/20 13:50:10 WARN Utils: Set SPARK_LOCAL_IP if you need to bind to another address\n"
     ]
    },
    {
     "name": "stderr",
     "output_type": "stream",
     "text": [
      "Setting default log level to \"WARN\".\n",
      "To adjust logging level use sc.setLogLevel(newLevel). For SparkR, use setLogLevel(newLevel).\n"
     ]
    },
    {
     "name": "stdout",
     "output_type": "stream",
     "text": [
      "24/06/20 13:50:10 WARN NativeCodeLoader: Unable to load native-hadoop library for your platform... using builtin-java classes where applicable\n",
      "+-----------+--------------------+------------+\n",
      "|primary_key|street              |house_number|\n",
      "+-----------+--------------------+------------+\n",
      "|1          |Rochussenstraat     |27          |\n",
      "|2          |Coolsingel          |31          |\n",
      "|3          |%Witte de Withstraat|27          |\n",
      "|4          |Lijnbaan            |-3          |\n",
      "|5          |null                |13          |\n",
      "+-----------+--------------------+------------+\n",
      "\n"
     ]
    },
    {
     "name": "stderr",
     "output_type": "stream",
     "text": [
      "                                                                                \r"
     ]
    }
   ],
   "source": [
    "# Initialize Spark session\n",
    "spark = SparkSession.builder.appName(\"CreateDataFrame\").getOrCreate()\n",
    "\n",
    "# Define the schema\n",
    "schema = StructType(\n",
    "    [\n",
    "        StructField(\"primary_key\", IntegerType(), True),\n",
    "        StructField(\"street\", StringType(), True),\n",
    "        StructField(\"house_number\", IntegerType(), True),\n",
    "    ]\n",
    ")\n",
    "\n",
    "# Define the data\n",
    "data = [\n",
    "    (1, \"Rochussenstraat\", 27),\n",
    "    (2, \"Coolsingel\", 31),\n",
    "    (3, \"%Witte de Withstraat\", 27),\n",
    "    (4, \"Lijnbaan\", -3),\n",
    "    (5, None, 13),\n",
    "]\n",
    "\n",
    "df = spark.createDataFrame(data, schema)\n",
    "\n",
    "df.show(truncate=False)"
   ]
  },
  {
   "cell_type": "markdown",
   "metadata": {},
   "source": [
    "**Import and initialize the `DataFrameTester`**"
   ]
  },
  {
   "cell_type": "code",
   "execution_count": 3,
   "metadata": {},
   "outputs": [],
   "source": [
    "from testframework.dataquality import DataFrameTester"
   ]
  },
  {
   "cell_type": "code",
   "execution_count": 4,
   "metadata": {},
   "outputs": [],
   "source": [
    "df_tester = DataFrameTester(\n",
    "    df=df,\n",
    "    primary_key=\"primary_key\",\n",
    "    spark=spark,\n",
    ")"
   ]
  },
  {
   "cell_type": "markdown",
   "metadata": {},
   "source": [
    "**Import configurable tests**"
   ]
  },
  {
   "cell_type": "code",
   "execution_count": 5,
   "metadata": {},
   "outputs": [],
   "source": [
    "from testframework.dataquality.tests import ValidNumericRange, RegexTest"
   ]
  },
  {
   "cell_type": "markdown",
   "metadata": {},
   "source": [
    "**Initialize the `RegexTest` to test for valid street names**"
   ]
  },
  {
   "cell_type": "code",
   "execution_count": 6,
   "metadata": {},
   "outputs": [],
   "source": [
    "valid_street_name = RegexTest(\n",
    "    name=\"ValidStreetName\",\n",
    "    pattern=r\"^[A-Z][a-zéèáàëï]*([ -][A-Z]?[a-zéèáàëï]*)*$\",\n",
    ")"
   ]
  },
  {
   "cell_type": "markdown",
   "metadata": {},
   "source": [
    "**Run `valid_street_name` on the _street_ column using the `.test()` method of `DataFrameTester`.**"
   ]
  },
  {
   "cell_type": "code",
   "execution_count": 7,
   "metadata": {},
   "outputs": [
    {
     "name": "stdout",
     "output_type": "stream",
     "text": [
      "+-----------+--------------------+-----------------------+\n",
      "|primary_key|street              |street__ValidStreetName|\n",
      "+-----------+--------------------+-----------------------+\n",
      "|1          |Rochussenstraat     |true                   |\n",
      "|2          |Coolsingel          |true                   |\n",
      "|3          |%Witte de Withstraat|false                  |\n",
      "|4          |Lijnbaan            |true                   |\n",
      "|5          |null                |false                  |\n",
      "+-----------+--------------------+-----------------------+\n",
      "\n"
     ]
    }
   ],
   "source": [
    "df_tester.test(\n",
    "    col=\"street\",\n",
    "    test=valid_street_name,\n",
    "    nullable=False,  # nullable, hence null values are converted to True\n",
    "    description=\"street contains valid Dutch street name.\",\n",
    ").show(truncate=False)"
   ]
  },
  {
   "cell_type": "markdown",
   "metadata": {},
   "source": [
    "**Run the `IntegerString` test on the _number_ column**"
   ]
  },
  {
   "cell_type": "code",
   "execution_count": 8,
   "metadata": {},
   "outputs": [
    {
     "name": "stdout",
     "output_type": "stream",
     "text": [
      "+-----------+------------+-------------------------------+\n",
      "|primary_key|house_number|house_number__ValidNumericRange|\n",
      "+-----------+------------+-------------------------------+\n",
      "|          1|          27|                           true|\n",
      "|          2|          31|                           true|\n",
      "|          3|          27|                           true|\n",
      "|          4|          -3|                          false|\n",
      "|          5|          13|                           true|\n",
      "+-----------+------------+-------------------------------+\n",
      "\n"
     ]
    }
   ],
   "source": [
    "df_tester.test(\n",
    "    col=\"house_number\",\n",
    "    test=ValidNumericRange(\n",
    "        min_value=0,\n",
    "    ),\n",
    "    nullable=True,  # nullable, hence null values are converted to True\n",
    "    # description is optional, let's not define it for illustration purposes\n",
    ").show()"
   ]
  },
  {
   "cell_type": "markdown",
   "metadata": {},
   "source": [
    "**Let's take a look at the test results of the DataFrame using the `.results` attribute.**"
   ]
  },
  {
   "cell_type": "code",
   "execution_count": 9,
   "metadata": {},
   "outputs": [
    {
     "name": "stdout",
     "output_type": "stream",
     "text": [
      "+-----------+-----------------------+-------------------------------+\n",
      "|primary_key|street__ValidStreetName|house_number__ValidNumericRange|\n",
      "+-----------+-----------------------+-------------------------------+\n",
      "|1          |true                   |true                           |\n",
      "|2          |true                   |true                           |\n",
      "|3          |false                  |true                           |\n",
      "|4          |true                   |false                          |\n",
      "|5          |false                  |true                           |\n",
      "+-----------+-----------------------+-------------------------------+\n",
      "\n"
     ]
    }
   ],
   "source": [
    "df_tester.results.show(truncate=False)"
   ]
  },
  {
   "cell_type": "markdown",
   "metadata": {},
   "source": [
    "**We can use `.descriptions` or `.descriptions_df` to get the descriptions of the tests.**    \n",
    "\n",
    "<br>\n",
    "This can be useful for reporting purposes.   \n",
    "For example to create reports for the business with more detailed information than just the column name and the test name."
   ]
  },
  {
   "cell_type": "code",
   "execution_count": 10,
   "metadata": {},
   "outputs": [
    {
     "data": {
      "text/plain": [
       "{'street__ValidStreetName': 'street contains valid Dutch street name.',\n",
       " 'house_number__ValidNumericRange': 'house_number__ValidNumericRange(min_value=0.0, max_value=inf)'}"
      ]
     },
     "execution_count": 10,
     "metadata": {},
     "output_type": "execute_result"
    }
   ],
   "source": [
    "df_tester.descriptions"
   ]
  },
  {
   "cell_type": "code",
   "execution_count": 11,
   "metadata": {},
   "outputs": [
    {
     "name": "stdout",
     "output_type": "stream",
     "text": [
      "+-------------------------------+-------------------------------------------------------------+\n",
      "|test                           |description                                                  |\n",
      "+-------------------------------+-------------------------------------------------------------+\n",
      "|street__ValidStreetName        |street contains valid Dutch street name.                     |\n",
      "|house_number__ValidNumericRange|house_number__ValidNumericRange(min_value=0.0, max_value=inf)|\n",
      "+-------------------------------+-------------------------------------------------------------+\n",
      "\n"
     ]
    }
   ],
   "source": [
    "df_tester.description_df.show(truncate=False)"
   ]
  },
  {
   "cell_type": "markdown",
   "metadata": {},
   "source": [
    "### Custom tests\n",
    "\n",
    "Sometimes tests are too specific or complex to be covered by the configurable tests. That's why we can create custom tests and add them to the `DataFrameTester` object.  \n",
    "\n",
    "Let's do this using a custom test which should tests that every house has a bath room.  We'll start by creating a new DataFrame with rooms rather than houses."
   ]
  },
  {
   "cell_type": "code",
   "execution_count": 12,
   "metadata": {},
   "outputs": [
    {
     "name": "stdout",
     "output_type": "stream",
     "text": [
      "+-----------+-----------+\n",
      "|primary_key|room       |\n",
      "+-----------+-----------+\n",
      "|1          |living room|\n",
      "|1          |bath room  |\n",
      "|1          |kitchen    |\n",
      "|1          |bed room   |\n",
      "|2          |living room|\n",
      "|2          |bed room   |\n",
      "|2          |kitchen    |\n",
      "+-----------+-----------+\n",
      "\n"
     ]
    }
   ],
   "source": [
    "rooms = [\n",
    "    (1, \"living room\"),\n",
    "    (1, \"bath room\"),\n",
    "    (1, \"kitchen\"),\n",
    "    (1, \"bed room\"),\n",
    "    (2, \"living room\"),\n",
    "    (2, \"bed room\"),\n",
    "    (2, \"kitchen\"),\n",
    "]\n",
    "\n",
    "schema_rooms = StructType(\n",
    "    [\n",
    "        StructField(\"primary_key\", IntegerType(), True),\n",
    "        StructField(\"room\", StringType(), True),\n",
    "    ]\n",
    ")\n",
    "\n",
    "room_df = spark.createDataFrame(rooms, schema=schema_rooms)\n",
    "\n",
    "room_df.show(truncate=False)"
   ]
  },
  {
   "cell_type": "markdown",
   "metadata": {},
   "source": [
    "To create a custom test, we should create a pyspark DataFrame which contains the same primary_key column as the DataFrame to be tested using the `DataFrameTester`.  \n",
    "\n",
    "Let's create a boolean column that indicates whether the house has a bath room or not."
   ]
  },
  {
   "cell_type": "code",
   "execution_count": 13,
   "metadata": {},
   "outputs": [
    {
     "name": "stdout",
     "output_type": "stream",
     "text": [
      "+-----------+-------------+\n",
      "|primary_key|has_bath_room|\n",
      "+-----------+-------------+\n",
      "|1          |1            |\n",
      "|2          |0            |\n",
      "+-----------+-------------+\n",
      "\n"
     ]
    }
   ],
   "source": [
    "house_has_bath_room = room_df.groupBy(\"primary_key\").agg(\n",
    "    F.max(F.when(F.col(\"room\") == \"bath room\", 1).otherwise(0)).alias(\"has_bath_room\")\n",
    ")\n",
    "\n",
    "house_has_bath_room.show(truncate=False)"
   ]
  },
  {
   "cell_type": "markdown",
   "metadata": {},
   "source": [
    "**We can add this 'custom test' to the `DataFrameTester` using `add_custom_test_result`.**\n",
    "\n",
    "In the background, all kinds of data validation checks are done by `DataFrameTester` to make sure that it fits the requirements to be added to the other test results.\n",
    "\n"
   ]
  },
  {
   "cell_type": "code",
   "execution_count": 14,
   "metadata": {},
   "outputs": [
    {
     "name": "stdout",
     "output_type": "stream",
     "text": [
      "+-----------+-------------+\n",
      "|primary_key|has_bath_room|\n",
      "+-----------+-------------+\n",
      "|1          |1            |\n",
      "|2          |0            |\n",
      "|3          |null         |\n",
      "|4          |null         |\n",
      "|5          |null         |\n",
      "+-----------+-------------+\n",
      "\n"
     ]
    }
   ],
   "source": [
    "df_tester.add_custom_test_result(\n",
    "    result=house_has_bath_room,\n",
    "    name=\"has_bath_room\",\n",
    "    description=\"House has a bath room\",\n",
    "    # fillna_value=0, # optional; by default null.\n",
    ").show(truncate=False)"
   ]
  },
  {
   "cell_type": "markdown",
   "metadata": {},
   "source": [
    "**Despite that the data whether a house has a bath room is not available in the house DataFrame; we can still add the custom test to the `DataFrameTester` object.**"
   ]
  },
  {
   "cell_type": "code",
   "execution_count": 15,
   "metadata": {},
   "outputs": [
    {
     "name": "stdout",
     "output_type": "stream",
     "text": [
      "+-----------+-----------------------+-------------------------------+-------------+\n",
      "|primary_key|street__ValidStreetName|house_number__ValidNumericRange|has_bath_room|\n",
      "+-----------+-----------------------+-------------------------------+-------------+\n",
      "|1          |true                   |true                           |1            |\n",
      "|2          |true                   |true                           |0            |\n",
      "|3          |false                  |true                           |null         |\n",
      "|4          |true                   |false                          |null         |\n",
      "|5          |false                  |true                           |null         |\n",
      "+-----------+-----------------------+-------------------------------+-------------+\n",
      "\n"
     ]
    }
   ],
   "source": [
    "df_tester.results.show(truncate=False)"
   ]
  },
  {
   "cell_type": "code",
   "execution_count": 16,
   "metadata": {},
   "outputs": [
    {
     "data": {
      "text/plain": [
       "{'street__ValidStreetName': 'street contains valid Dutch street name.',\n",
       " 'house_number__ValidNumericRange': 'house_number__ValidNumericRange(min_value=0.0, max_value=inf)',\n",
       " 'has_bath_room': 'House has a bath room'}"
      ]
     },
     "execution_count": 16,
     "metadata": {},
     "output_type": "execute_result"
    }
   ],
   "source": [
    "df_tester.descriptions"
   ]
  }
 ],
 "metadata": {
  "kernelspec": {
   "display_name": ".venv",
   "language": "python",
   "name": "python3"
  },
  "language_info": {
   "codemirror_mode": {
    "name": "ipython",
    "version": 3
   },
   "file_extension": ".py",
   "mimetype": "text/x-python",
   "name": "python",
   "nbconvert_exporter": "python",
   "pygments_lexer": "ipython3",
   "version": "3.9.18"
  }
 },
 "nbformat": 4,
 "nbformat_minor": 2
}
