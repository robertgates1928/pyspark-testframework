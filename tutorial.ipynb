{
 "cells": [
  {
   "cell_type": "markdown",
   "metadata": {},
   "source": [
    "# Tutorial"
   ]
  },
  {
   "cell_type": "markdown",
   "metadata": {},
   "source": [
    "**Let's first create an example pyspark DataFrame**"
   ]
  },
  {
   "cell_type": "code",
   "execution_count": 1,
   "metadata": {},
   "outputs": [
    {
     "name": "stderr",
     "output_type": "stream",
     "text": [
      "Setting default log level to \"WARN\".\n",
      "To adjust logging level use sc.setLogLevel(newLevel). For SparkR, use setLogLevel(newLevel).\n"
     ]
    },
    {
     "name": "stdout",
     "output_type": "stream",
     "text": [
      "24/06/18 11:59:40 WARN NativeCodeLoader: Unable to load native-hadoop library for your platform... using builtin-java classes where applicable\n",
      "+-----------+-------------------------+------+\n",
      "|primary_key|email                    |number|\n",
      "+-----------+-------------------------+------+\n",
      "|1          |info@woonstadrotterdam.nl|123   |\n",
      "|2          |infowoonstadrotterdam.nl |01    |\n",
      "|3          |@woonstadrotterdam.nl    |-45   |\n",
      "|4          |dev@woonstadrotterdam.nl |1.0   |\n",
      "|5          |null                     |null  |\n",
      "+-----------+-------------------------+------+\n",
      "\n"
     ]
    },
    {
     "name": "stderr",
     "output_type": "stream",
     "text": [
      "                                                                                \r"
     ]
    }
   ],
   "source": [
    "from pyspark.sql import SparkSession\n",
    "from pyspark.sql.types import StructType, StructField, IntegerType, StringType\n",
    "\n",
    "# Initialize Spark session\n",
    "spark = SparkSession.builder.appName(\"CreateDataFrame\").getOrCreate()\n",
    "\n",
    "# Define the schema\n",
    "schema = StructType(\n",
    "    [\n",
    "        StructField(\"primary_key\", IntegerType(), True),\n",
    "        StructField(\"email\", StringType(), True),\n",
    "        StructField(\"number\", StringType(), True),\n",
    "    ]\n",
    ")\n",
    "\n",
    "# Define the data\n",
    "data = [\n",
    "    (1, \"info@woonstadrotterdam.nl\", \"123\"),\n",
    "    (2, \"infowoonstadrotterdam.nl\", \"01\"),\n",
    "    (3, \"@woonstadrotterdam.nl\", \"-45\"),\n",
    "    (4, \"dev@woonstadrotterdam.nl\", \"1.0\"),\n",
    "    (5, None, None),\n",
    "]\n",
    "\n",
    "df = spark.createDataFrame(data, schema)\n",
    "\n",
    "df.show(truncate=False)"
   ]
  },
  {
   "cell_type": "markdown",
   "metadata": {},
   "source": [
    "**Import and initialize the `DataFrameTester`**"
   ]
  },
  {
   "cell_type": "code",
   "execution_count": 2,
   "metadata": {},
   "outputs": [],
   "source": [
    "from testframework.dataquality import DataFrameTester"
   ]
  },
  {
   "cell_type": "code",
   "execution_count": 3,
   "metadata": {},
   "outputs": [],
   "source": [
    "df_tester = DataFrameTester(\n",
    "    df=df,\n",
    "    primary_key=\"primary_key\",\n",
    "    spark=spark,  # optional. If not provided, a new Spark session will be created\n",
    ")"
   ]
  },
  {
   "cell_type": "markdown",
   "metadata": {},
   "source": [
    "**Import configurable tests**"
   ]
  },
  {
   "cell_type": "code",
   "execution_count": 4,
   "metadata": {},
   "outputs": [],
   "source": [
    "from testframework.dataquality.tests import IntegerString, RegexTest"
   ]
  },
  {
   "cell_type": "markdown",
   "metadata": {},
   "source": [
    "**Run the `IntegerString` test on the _number_ column**"
   ]
  },
  {
   "cell_type": "code",
   "execution_count": 5,
   "metadata": {},
   "outputs": [
    {
     "name": "stdout",
     "output_type": "stream",
     "text": [
      "+-----------+------+---------------------+\n",
      "|primary_key|number|number__IntegerString|\n",
      "+-----------+------+---------------------+\n",
      "|          1|   123|                 true|\n",
      "|          2|    01|                false|\n",
      "|          3|   -45|                 true|\n",
      "|          4|   1.0|                 true|\n",
      "|          5|  null|                 true|\n",
      "+-----------+------+---------------------+\n",
      "\n"
     ]
    }
   ],
   "source": [
    "df_tester.test(\n",
    "    col=\"number\",\n",
    "    test=IntegerString(),\n",
    "    nullable=True,\n",
    "    description=\"Value in 'number' column could be converted to integer\",\n",
    ").show()"
   ]
  },
  {
   "cell_type": "markdown",
   "metadata": {},
   "source": [
    "**Initialize the `RegexTest` to test for valid email addresses**"
   ]
  },
  {
   "cell_type": "code",
   "execution_count": 6,
   "metadata": {},
   "outputs": [],
   "source": [
    "valid_email_test = RegexTest(\n",
    "    name=\"ValidEmail\",\n",
    "    pattern=r\"^[a-zA-Z0-9_.+-]+@[a-zA-Z0-9-]+\\.[a-zA-Z0-9-.]+$\",\n",
    ")"
   ]
  },
  {
   "cell_type": "markdown",
   "metadata": {},
   "source": [
    "**Run the `.valid_email_test` method on the _email_ column**"
   ]
  },
  {
   "cell_type": "code",
   "execution_count": 9,
   "metadata": {},
   "outputs": [
    {
     "name": "stdout",
     "output_type": "stream",
     "text": [
      "+-----------+-------------------------+-----------------+\n",
      "|primary_key|email                    |email__ValidEmail|\n",
      "+-----------+-------------------------+-----------------+\n",
      "|1          |info@woonstadrotterdam.nl|true             |\n",
      "|2          |infowoonstadrotterdam.nl |false            |\n",
      "|3          |@woonstadrotterdam.nl    |false            |\n",
      "|4          |dev@woonstadrotterdam.nl |true             |\n",
      "|5          |null                     |true             |\n",
      "+-----------+-------------------------+-----------------+\n",
      "\n"
     ]
    }
   ],
   "source": [
    "df_tester.test(\n",
    "    col=\"email\",\n",
    "    test=valid_email_test,\n",
    "    nullable=True,\n",
    "    # description is optional, let's not define it for illustration purposes\n",
    ").show(truncate=False)"
   ]
  },
  {
   "cell_type": "markdown",
   "metadata": {},
   "source": [
    "**Let's take a look at the test results of the DataFrame using the `.results` attribute.**"
   ]
  },
  {
   "cell_type": "code",
   "execution_count": 10,
   "metadata": {},
   "outputs": [
    {
     "name": "stdout",
     "output_type": "stream",
     "text": [
      "+-----------+---------------------+-----------------+\n",
      "|primary_key|number__IntegerString|email__ValidEmail|\n",
      "+-----------+---------------------+-----------------+\n",
      "|1          |true                 |true             |\n",
      "|2          |false                |false            |\n",
      "|3          |true                 |false            |\n",
      "|4          |true                 |true             |\n",
      "|5          |true                 |true             |\n",
      "+-----------+---------------------+-----------------+\n",
      "\n"
     ]
    }
   ],
   "source": [
    "df_tester.results.show(truncate=False)"
   ]
  },
  {
   "cell_type": "markdown",
   "metadata": {},
   "source": [
    "**We can use `.descriptions` or `.descriptions_df` to get the descriptions of the tests.**    \n",
    "\n",
    "<br>\n",
    "This can be useful for reporting purposes.   \n",
    "For example to create reports for the business with more detailed information than just the column name and the test name."
   ]
  },
  {
   "cell_type": "code",
   "execution_count": 14,
   "metadata": {},
   "outputs": [
    {
     "data": {
      "text/plain": [
       "{'number__IntegerString': \"Value in 'number' column could be converted to integer\",\n",
       " 'email__ValidEmail': 'email__ValidEmail'}"
      ]
     },
     "execution_count": 14,
     "metadata": {},
     "output_type": "execute_result"
    }
   ],
   "source": [
    "df_tester.descriptions"
   ]
  },
  {
   "cell_type": "code",
   "execution_count": 11,
   "metadata": {},
   "outputs": [
    {
     "name": "stdout",
     "output_type": "stream",
     "text": [
      "+---------------------+------------------------------------------------------+\n",
      "|test                 |description                                           |\n",
      "+---------------------+------------------------------------------------------+\n",
      "|number__IntegerString|Value in 'number' column could be converted to integer|\n",
      "|email__ValidEmail    |email__ValidEmail                                     |\n",
      "+---------------------+------------------------------------------------------+\n",
      "\n"
     ]
    }
   ],
   "source": [
    "df_tester.description_df.show(truncate=False)"
   ]
  }
 ],
 "metadata": {
  "kernelspec": {
   "display_name": ".venv",
   "language": "python",
   "name": "python3"
  },
  "language_info": {
   "codemirror_mode": {
    "name": "ipython",
    "version": 3
   },
   "file_extension": ".py",
   "mimetype": "text/x-python",
   "name": "python",
   "nbconvert_exporter": "python",
   "pygments_lexer": "ipython3",
   "version": "3.9.18"
  }
 },
 "nbformat": 4,
 "nbformat_minor": 2
}
